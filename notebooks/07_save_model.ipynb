{
 "cells": [
  {
   "cell_type": "markdown",
   "id": "358d106b",
   "metadata": {},
   "source": [
    "Save the trained model using joblib or pickle (.pkl format)."
   ]
  },
  {
   "cell_type": "code",
   "execution_count": 8,
   "id": "ed4daba7",
   "metadata": {},
   "outputs": [
    {
     "name": "stdout",
     "output_type": "stream",
     "text": [
      "../models\\best_model_grid.pkl\n"
     ]
    }
   ],
   "source": [
    "import pickle\n",
    "import os\n",
    "\n",
    "temp_path = \"../temp/grid_search_full.pkl\"\n",
    "\n",
    "with open(temp_path, \"rb\") as file:\n",
    "    grid_search_loaded = pickle.load(file)\n",
    "\n",
    "model_dir = \"../models\"\n",
    "os.makedirs(model_dir, exist_ok=True)\n",
    "\n",
    "model_path = os.path.join(model_dir, \"best_model_grid.pkl\")\n",
    "with open(model_path, \"wb\") as file:\n",
    "    pickle.dump(grid_search_loaded.best_estimator_, file)\n",
    "\n",
    "print(f\"{model_path}\")"
   ]
  },
  {
   "cell_type": "markdown",
   "id": "f776b6f5",
   "metadata": {},
   "source": [
    "Ensure reproducibility by saving model pipeline (preprocessing + model).\n"
   ]
  },
  {
   "cell_type": "code",
   "execution_count": null,
   "id": "4dd002de",
   "metadata": {},
   "outputs": [
    {
     "name": "stdout",
     "output_type": "stream",
     "text": [
      "Prediction done. Model works fine!\n"
     ]
    }
   ],
   "source": [
    "import pandas as pd\n",
    "from sklearn.model_selection import train_test_split\n",
    "import pickle\n",
    "\n",
    "data = pd.read_csv(\"../data/processed_data.csv\")\n",
    "\n",
    "X = data.drop(\"target\", axis=1)\n",
    "y = data[\"target\"]\n",
    "\n",
    "X_train, X_test, y_train, y_test = train_test_split(X, y, test_size=0.2, random_state=42)\n",
    "\n",
    "with open(\"../models/best_model_grid.pkl\", \"rb\") as f:\n",
    "    loaded_model = pickle.load(f)\n",
    "\n",
    "y_pred = loaded_model.predict(X_test)\n",
    "print(\"Model works fine!\")\n"
   ]
  }
 ],
 "metadata": {
  "kernelspec": {
   "display_name": "Python 3",
   "language": "python",
   "name": "python3"
  },
  "language_info": {
   "codemirror_mode": {
    "name": "ipython",
    "version": 3
   },
   "file_extension": ".py",
   "mimetype": "text/x-python",
   "name": "python",
   "nbconvert_exporter": "python",
   "pygments_lexer": "ipython3",
   "version": "3.10.11"
  }
 },
 "nbformat": 4,
 "nbformat_minor": 5
}
